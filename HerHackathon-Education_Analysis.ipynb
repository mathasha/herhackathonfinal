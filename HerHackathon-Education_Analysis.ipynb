{
 "cells": [
  {
   "cell_type": "markdown",
   "metadata": {},
   "source": [
    "## Table of Contents\n",
    "\n",
    "1. [Problem Statement](#section1)<br/>\n",
    "2. [Data Loading and Description](#section2)\n",
    "3. [Importing necessary Packages and Dataset](#section3)\n",
    "4. [Checking shape, size of dataset and missing values](#section4)\n",
    "5. [Exploring the dataset and plotting various graphs](#section5)    \n",
    "6. [Dividing the dataset into training, testing and checking the shape](#section6)   \n",
    "7. [Conclusion](#section7)\n"
   ]
  },
  {
   "cell_type": "markdown",
   "metadata": {},
   "source": [
    "### 1. Problem Statement <a class=\"anchor\" id=\"section1\"></a>"
   ]
  },
  {
   "cell_type": "markdown",
   "metadata": {},
   "source": [
    "To find the factors that improve female literacy rate in India after analysing the dataset."
   ]
  },
  {
   "cell_type": "markdown",
   "metadata": {},
   "source": [
    "### 2. Data Loading and description <a class=\"anchor\" id=\"section2\"></a>"
   ]
  },
  {
   "cell_type": "markdown",
   "metadata": {},
   "source": [
    " The data set consists of information about __Education Data of 2016-2017__ of India. Various variables present in the dataset includes data of percentage of male, female enrollments, no.of schools etc."
   ]
  },
  {
   "cell_type": "markdown",
   "metadata": {},
   "source": [
    "### 3. Importing necessary Packages and dataset <a class=\"anchor\" id=\"section3\"></a>"
   ]
  },
  {
   "cell_type": "code",
   "execution_count": 11,
   "metadata": {},
   "outputs": [],
   "source": [
    "# Importing Different libraries\n",
    "import pandas as pd\n",
    "import matplotlib.pyplot as plt\n",
    "import seaborn as sns\n",
    "import numpy as np\n",
    "\n",
    "%matplotlib inline"
   ]
  },
  {
   "cell_type": "code",
   "execution_count": 12,
   "metadata": {},
   "outputs": [
    {
     "name": "stdout",
     "output_type": "stream",
     "text": [
      "/Users/akshayarora/Python Codes/Hackathon_Work\n",
      "   AC_YEAR  STATCD          STATNAME  DISTRICTS  BLOCKS  VILLAGES  CLUSTERS  \\\n",
      "0  2015-16       1   JAMMU & KASHMIR         22     201      7263      1628   \n",
      "1  2015-16       2  HIMACHAL PRADESH         12     124     10120      2243   \n",
      "2  2015-16       3            PUNJAB         22     146     13197      1780   \n",
      "3  2015-16       4        CHANDIGARH          1      20        84        20   \n",
      "4  2015-16       5       UTTARAKHAND         13      95     11989       995   \n",
      "\n",
      "   TOTPOPULAT  P_OF_SCH  POPULATION_0_6    ...     USCR35  NOTCH_ASS  TCHINV  \\\n",
      "0       12549     20.05           16.01    ...       1014      20491    1946   \n",
      "1        6857      8.69           11.14    ...        652      36054    3053   \n",
      "2       27704     29.82           10.62    ...       2754      88618   14200   \n",
      "3        1055     97.25           11.18    ...        117       1994     218   \n",
      "4       10117     21.54           13.14    ...       1147      12608    1024   \n",
      "\n",
      "   TOTCLS1G  TOTCLS2G  TOTCLS3G  TOTCLS4G  TOTCLS5G  TOTCLS6G  TOTCLS7G  \n",
      "0     41171     62474      7878       564       495     24326      2001  \n",
      "1     38307      6930      6909      6498      5445      6151      2717  \n",
      "2     56222     23531     42532      9244      8406     30835      7218  \n",
      "3       135       419      2066         0        36      1398         0  \n",
      "4     48215     14587      7545     12388      6671      1855      3227  \n",
      "\n",
      "[5 rows x 816 columns]\n",
      "  Field name                             Description\n",
      "0    AC_YEAR                        AC_YEAR: AC_YEAR\n",
      "1     STATCD  Data Reported from: Data Reported from\n",
      "2   STATNAME  Data Reported from: Data Reported from\n",
      "3  DISTRICTS  Data Reported from: Data Reported from\n",
      "4     BLOCKS  Data Reported from: Data Reported from\n"
     ]
    }
   ],
   "source": [
    "# Reading in datasets\n",
    "import os\n",
    "print(os.getcwd())\n",
    "Stat_Elem = pd.read_csv('https://raw.githubusercontent.com/mathasha/herhackathonfinal/master/2015_16_Statewise_Elementary.csv')\n",
    "Stat_Elem_Met = pd.read_csv('https://raw.githubusercontent.com/mathasha/herhackathonfinal/master/2015_16_Statewise_Elementary_Metadata.csv')\n",
    "print(Stat_Elem.head())\n",
    "print(Stat_Elem_Met.head())"
   ]
  },
  {
   "cell_type": "markdown",
   "metadata": {},
   "source": [
    "### 4. Checking shape,size of dataset and number of missing values <a class=\"anchor\" id=\"section4\"></a>"
   ]
  },
  {
   "cell_type": "code",
   "execution_count": 13,
   "metadata": {},
   "outputs": [
    {
     "name": "stdout",
     "output_type": "stream",
     "text": [
      "(36, 816)\n",
      "(816, 2)\n"
     ]
    }
   ],
   "source": [
    "print(Stat_Elem.shape)\n",
    "print(Stat_Elem_Met.shape)"
   ]
  },
  {
   "cell_type": "code",
   "execution_count": 14,
   "metadata": {},
   "outputs": [
    {
     "name": "stdout",
     "output_type": "stream",
     "text": [
      "False\n",
      "False\n"
     ]
    }
   ],
   "source": [
    "#Checking Null Values\n",
    "print(Stat_Elem.isnull().sum().any())\n",
    "print(Stat_Elem_Met.isnull().sum().any())"
   ]
  },
  {
   "cell_type": "markdown",
   "metadata": {},
   "source": [
    "From above, we can see there are __no missing__ values in the dataset."
   ]
  },
  {
   "cell_type": "code",
   "execution_count": 16,
   "metadata": {},
   "outputs": [
    {
     "data": {
      "text/plain": [
       "<bound method NDFrame.head of     AC_YEAR  STATCD              STATNAME  DISTRICTS  BLOCKS  VILLAGES  \\\n",
       "0   2015-16       1       JAMMU & KASHMIR         22     201      7263   \n",
       "1   2015-16       2      HIMACHAL PRADESH         12     124     10120   \n",
       "2   2015-16       3                PUNJAB         22     146     13197   \n",
       "3   2015-16       4            CHANDIGARH          1      20        84   \n",
       "4   2015-16       5           UTTARAKHAND         13      95     11989   \n",
       "5   2015-16       6               HARYANA         21     126      7438   \n",
       "6   2015-16       7                 DELHI          9      69      1201   \n",
       "7   2015-16       8             RAJASTHAN         33     302     41441   \n",
       "8   2015-16       9         UTTAR PRADESH         75     971     98470   \n",
       "9   2015-16      10                 BIHAR         38     537     40779   \n",
       "10  2015-16      11                SIKKIM          4      29       756   \n",
       "11  2015-16      12     ARUNACHAL PRADESH         20      99      2982   \n",
       "12  2015-16      13              NAGALAND         11      47      1478   \n",
       "13  2015-16      14               MANIPUR          9      35      2422   \n",
       "14  2015-16      15               MIZORAM          8      36       851   \n",
       "15  2015-16      16               TRIPURA          8      71      1101   \n",
       "16  2015-16      17             MEGHALAYA         11      41      6166   \n",
       "17  2015-16      18                 ASSAM         27     145     21833   \n",
       "18  2015-16      19           WEST BENGAL         21     470     41179   \n",
       "19  2015-16      20             JHARKHAND         24     260     27862   \n",
       "20  2015-16      21                ODISHA         30     423     39334   \n",
       "21  2015-16      22          CHHATTISGARH         27     146     21834   \n",
       "22  2015-16      23        MADHYA PRADESH         51     319     54762   \n",
       "23  2015-16      24               GUJARAT         33     253     19877   \n",
       "24  2015-16      25           DAMAN & DIU          2       2        39   \n",
       "25  2015-16      26  DADRA & NAGAR HAVELI          1       1        70   \n",
       "26  2015-16      27           MAHARASHTRA         36     408     43661   \n",
       "27  2015-16      28        ANDHRA PRADESH         13     670     15075   \n",
       "28  2015-16      29             KARNATAKA         34     203     29449   \n",
       "29  2015-16      30                   GOA          2      12       530   \n",
       "30  2015-16      31           LAKSHADWEEP          1       3        10   \n",
       "31  2015-16      32                KERALA         14     166      1907   \n",
       "32  2015-16      33            TAMIL NADU         30     413     19301   \n",
       "33  2015-16      34            PUDUCHERRY          4       6       145   \n",
       "34  2015-16      35         A & N ISLANDS          3       9       198   \n",
       "35  2015-16      36             TELANGANA         10     459      9934   \n",
       "\n",
       "    CLUSTERS  TOTPOPULAT  P_OF_SCH  POPULATION_0_6    ...     USCR35  \\\n",
       "0       1628       12549     20.05           16.01    ...       1014   \n",
       "1       2243        6857      8.69           11.14    ...        652   \n",
       "2       1780       27704     29.82           10.62    ...       2754   \n",
       "3         20        1055     97.25           11.18    ...        117   \n",
       "4        995       10117     21.54           13.14    ...       1147   \n",
       "5       1523       25353     24.12           13.01    ...       2485   \n",
       "6         69       16753     77.03           11.76    ...       1818   \n",
       "7      10594       68621     19.26           15.31    ...      11705   \n",
       "8       9423      199581     17.31           14.90    ...      25145   \n",
       "9       5633      103805      8.36           17.90    ...      26429   \n",
       "10       111         608      9.85           10.05    ...         21   \n",
       "11       234        1383     16.48           14.66    ...        188   \n",
       "12       125        1981     17.31           14.44    ...        233   \n",
       "13       225        2722     21.16           12.98    ...        368   \n",
       "14       169        1091     40.42           15.17    ...         98   \n",
       "15       368        3671     14.87           12.10    ...        743   \n",
       "16       609        2964     15.32           18.75    ...        535   \n",
       "17      3416       31169     11.03           14.47    ...       4344   \n",
       "18      3799      991348     24.55           11.07    ...      10496   \n",
       "19      2264       32966     18.18           15.89    ...       5951   \n",
       "20      4880       41947     13.15           12.00    ...      10933   \n",
       "21      2664       25540     16.39           14.03    ...       4727   \n",
       "22      3182       72598     21.99           14.53    ...      11393   \n",
       "23      4307       60384     31.35           12.41    ...       7620   \n",
       "24         7         243     23.61           10.65    ...         26   \n",
       "25        11         343     14.72           14.35    ...         56   \n",
       "26      5583      112373     36.58           11.43    ...      15933   \n",
       "27      5076       84666     24.58           10.21    ...       4613   \n",
       "28      4063       61131     29.38           11.21    ...       5792   \n",
       "29       111        1458     46.00            9.57    ...        178   \n",
       "30         9          64     41.86           11.00    ...          0   \n",
       "31      1375       33388     24.76            9.95    ...       1418   \n",
       "32      4092       72139     38.10            9.56    ...       6594   \n",
       "33        33        1244     52.12           10.25    ...         87   \n",
       "34        37         380     30.58           10.40    ...         22   \n",
       "35      1776         352     38.67           39.20    ...       4823   \n",
       "\n",
       "    NOTCH_ASS  TCHINV  TOTCLS1G  TOTCLS2G  TOTCLS3G  TOTCLS4G  TOTCLS5G  \\\n",
       "0       20491    1946     41171     62474      7878       564       495   \n",
       "1       36054    3053     38307      6930      6909      6498      5445   \n",
       "2       88618   14200     56222     23531     42532      9244      8406   \n",
       "3        1994     218       135       419      2066         0        36   \n",
       "4       12608    1024     48215     14587      7545     12388      6671   \n",
       "5       36544    5420     52975     23273     35337      8686     10503   \n",
       "6      342025   16445     31334     10627     26042       287      5952   \n",
       "7       40162    2701    125798    253514    120330       979      5189   \n",
       "8       43645    6994    746590     99397     24849    297150     42320   \n",
       "9       49110    3614    147323    272919     11332      2481       475   \n",
       "10       1785      66      3493      3029      1167         3        46   \n",
       "11       5497     504      8564      9020       820       202       304   \n",
       "12      21056    1454      6588      6152      1772       167       256   \n",
       "13      51938    2941     10935      6594      1456       247       124   \n",
       "14       4917    1386      6593      3267         0      4575         0   \n",
       "15      18693     601      9961      8411      2669         7       330   \n",
       "16      68369    6546     26899      1276       374     11129       199   \n",
       "17     103621    7761    128723     14504      3514     41269      4331   \n",
       "18     355224   35326    294360     12365      9728     28340     78017   \n",
       "19      30819    3189     92258    125475      7618       556      2004   \n",
       "20      53982    4332    102132    107485      2904     11034       323   \n",
       "21      61153    5373    105689     21162     12374     41885      1558   \n",
       "22      68583    6320    291747    130566     45622    119699      1526   \n",
       "23      10302    2451     40094    250463     20835      5325      1119   \n",
       "24        244      16       323        53       188       190        33   \n",
       "25         15       3       463      1058       195         2         6   \n",
       "26      68561   10374    169023    220060     14101       431     41385   \n",
       "27      32948    5093    124687     68730      1835         4       971   \n",
       "28      11918     990     78689    229728     11491      2007       480   \n",
       "29       3204     298      2950       453       319        45        30   \n",
       "30       2395     209       139       150        49        15        28   \n",
       "31       3561     675     51419     43025     31335      5327     15449   \n",
       "32      37034    4699    158846     77998     59873       490     30542   \n",
       "33          0       0      1400       796      2015        12       296   \n",
       "34        945     126       895       723       569         0       106   \n",
       "35      18295    4418     76082     52862      1982         0      1165   \n",
       "\n",
       "    TOTCLS6G  TOTCLS7G  \n",
       "0      24326      2001  \n",
       "1       6151      2717  \n",
       "2      30835      7218  \n",
       "3       1398         0  \n",
       "4       1855      3227  \n",
       "5      20136      6481  \n",
       "6       3943      1074  \n",
       "7      86126      1720  \n",
       "8       6679     12482  \n",
       "9      23095       927  \n",
       "10      1390        25  \n",
       "11      2022       206  \n",
       "12      3639       781  \n",
       "13      7014       604  \n",
       "14         0         0  \n",
       "15      3634        34  \n",
       "16       971       627  \n",
       "17     15752      5950  \n",
       "18      3910     22878  \n",
       "19     20625      3254  \n",
       "20     13914     16690  \n",
       "21      4835      4555  \n",
       "22     25367       225  \n",
       "23      7172       404  \n",
       "24        59         0  \n",
       "25        95         0  \n",
       "26     24337     46876  \n",
       "27     13631     60301  \n",
       "28     37513      3434  \n",
       "29      2057      1387  \n",
       "30        11         0  \n",
       "31     17752      3936  \n",
       "32     25761     15126  \n",
       "33      1765       194  \n",
       "34       462         0  \n",
       "35     49790     37117  \n",
       "\n",
       "[36 rows x 816 columns]>"
      ]
     },
     "execution_count": 16,
     "metadata": {},
     "output_type": "execute_result"
    }
   ],
   "source": [
    "Stat_Elem.head"
   ]
  },
  {
   "cell_type": "code",
   "execution_count": 17,
   "metadata": {},
   "outputs": [
    {
     "data": {
      "text/plain": [
       "count    36.000000\n",
       "mean     78.309444\n",
       "std       8.257752\n",
       "min      63.820000\n",
       "25%      70.937500\n",
       "50%      78.480000\n",
       "75%      86.287500\n",
       "max      93.910000\n",
       "Name: OVERALL_LI, dtype: float64"
      ]
     },
     "execution_count": 17,
     "metadata": {},
     "output_type": "execute_result"
    }
   ],
   "source": [
    "#Checking Overall Literacy Rate\n",
    "Stat_Elem['OVERALL_LI'].describe()"
   ]
  },
  {
   "cell_type": "markdown",
   "metadata": {},
   "source": [
    " From above we can see that, overall literacy rate is aroung __78.3%__."
   ]
  },
  {
   "cell_type": "code",
   "execution_count": 18,
   "metadata": {},
   "outputs": [
    {
     "data": {
      "text/plain": [
       "count    36.000000\n",
       "mean     19.990556\n",
       "std      11.455856\n",
       "min      -0.470000\n",
       "25%      13.880000\n",
       "50%      18.910000\n",
       "75%      22.637500\n",
       "max      55.500000\n",
       "Name: GROWTHRATE, dtype: float64"
      ]
     },
     "execution_count": 18,
     "metadata": {},
     "output_type": "execute_result"
    }
   ],
   "source": [
    "Stat_Elem['GROWTHRATE'].describe()"
   ]
  },
  {
   "cell_type": "markdown",
   "metadata": {},
   "source": [
    " From above we can see that, overall literacy rate is aroung __19.9%__."
   ]
  },
  {
   "cell_type": "markdown",
   "metadata": {},
   "source": [
    "### 5. Exploring the dataset and plotting various graphs  <a class=\"anchor\" id=\"section5\"></a>"
   ]
  },
  {
   "cell_type": "code",
   "execution_count": 19,
   "metadata": {},
   "outputs": [
    {
     "data": {
      "text/html": [
       "<div>\n",
       "<style scoped>\n",
       "    .dataframe tbody tr th:only-of-type {\n",
       "        vertical-align: middle;\n",
       "    }\n",
       "\n",
       "    .dataframe tbody tr th {\n",
       "        vertical-align: top;\n",
       "    }\n",
       "\n",
       "    .dataframe thead th {\n",
       "        text-align: right;\n",
       "    }\n",
       "</style>\n",
       "<table border=\"1\" class=\"dataframe\">\n",
       "  <thead>\n",
       "    <tr style=\"text-align: right;\">\n",
       "      <th></th>\n",
       "      <th>AC_YEAR</th>\n",
       "      <th>STATCD</th>\n",
       "      <th>STATNAME</th>\n",
       "      <th>DISTRICTS</th>\n",
       "      <th>BLOCKS</th>\n",
       "      <th>VILLAGES</th>\n",
       "      <th>CLUSTERS</th>\n",
       "      <th>TOTPOPULAT</th>\n",
       "      <th>P_OF_SCH</th>\n",
       "      <th>POPULATION_0_6</th>\n",
       "      <th>...</th>\n",
       "      <th>USCR35</th>\n",
       "      <th>NOTCH_ASS</th>\n",
       "      <th>TCHINV</th>\n",
       "      <th>TOTCLS1G</th>\n",
       "      <th>TOTCLS2G</th>\n",
       "      <th>TOTCLS3G</th>\n",
       "      <th>TOTCLS4G</th>\n",
       "      <th>TOTCLS5G</th>\n",
       "      <th>TOTCLS6G</th>\n",
       "      <th>TOTCLS7G</th>\n",
       "    </tr>\n",
       "  </thead>\n",
       "  <tbody>\n",
       "    <tr>\n",
       "      <th>12</th>\n",
       "      <td>2015-16</td>\n",
       "      <td>13</td>\n",
       "      <td>NAGALAND</td>\n",
       "      <td>11</td>\n",
       "      <td>47</td>\n",
       "      <td>1478</td>\n",
       "      <td>125</td>\n",
       "      <td>1981</td>\n",
       "      <td>17.31</td>\n",
       "      <td>14.44</td>\n",
       "      <td>...</td>\n",
       "      <td>233</td>\n",
       "      <td>21056</td>\n",
       "      <td>1454</td>\n",
       "      <td>6588</td>\n",
       "      <td>6152</td>\n",
       "      <td>1772</td>\n",
       "      <td>167</td>\n",
       "      <td>256</td>\n",
       "      <td>3639</td>\n",
       "      <td>781</td>\n",
       "    </tr>\n",
       "  </tbody>\n",
       "</table>\n",
       "<p>1 rows × 816 columns</p>\n",
       "</div>"
      ],
      "text/plain": [
       "    AC_YEAR  STATCD  STATNAME  DISTRICTS  BLOCKS  VILLAGES  CLUSTERS  \\\n",
       "12  2015-16      13  NAGALAND         11      47      1478       125   \n",
       "\n",
       "    TOTPOPULAT  P_OF_SCH  POPULATION_0_6    ...     USCR35  NOTCH_ASS  TCHINV  \\\n",
       "12        1981     17.31           14.44    ...        233      21056    1454   \n",
       "\n",
       "    TOTCLS1G  TOTCLS2G  TOTCLS3G  TOTCLS4G  TOTCLS5G  TOTCLS6G  TOTCLS7G  \n",
       "12      6588      6152      1772       167       256      3639       781  \n",
       "\n",
       "[1 rows x 816 columns]"
      ]
     },
     "execution_count": 19,
     "metadata": {},
     "output_type": "execute_result"
    }
   ],
   "source": [
    "Stat_Elem[Stat_Elem.GROWTHRATE < 0 ]"
   ]
  },
  {
   "cell_type": "markdown",
   "metadata": {},
   "source": [
    " From above we can see that, in year 2015-16, __Nagaland__ has the negative growth rate."
   ]
  },
  {
   "cell_type": "code",
   "execution_count": 20,
   "metadata": {},
   "outputs": [
    {
     "data": {
      "text/plain": [
       "count    36.000000\n",
       "mean     13.893611\n",
       "std       5.679685\n",
       "min       3.390000\n",
       "25%      10.130000\n",
       "50%      13.720000\n",
       "75%      18.182500\n",
       "max      27.850000\n",
       "dtype: float64"
      ]
     },
     "execution_count": 20,
     "metadata": {},
     "output_type": "execute_result"
    }
   ],
   "source": [
    "# Overall difference between male and female literacy rates for each state\n",
    "(Stat_Elem.MALE_LIT - Stat_Elem.FEMALE_LIT).describe()"
   ]
  },
  {
   "cell_type": "markdown",
   "metadata": {},
   "source": [
    " From above we can see that, there is overall difference of __13.89__ in male and female literacy rate that is quite high."
   ]
  },
  {
   "cell_type": "code",
   "execution_count": 21,
   "metadata": {},
   "outputs": [],
   "source": [
    "# Lets check the literacy rate of all states through visualization:\n",
    "\n",
    "# General Function to plot the bar graph after choosing two columns from dataframes\n",
    "def bar_plot(df, col1, col2, size = (12,12), title = None, xlabel = None):\n",
    "    '''\n",
    "    Function to plot bar graph using any two columns from data frame\n",
    "    Input_Values:\n",
    "    df - Dataframe that contains the data\n",
    "    col1 - Column for y-axis\n",
    "    col2 - Column for x-axis\n",
    "    size - Figsize attribute of the plot\n",
    "    title - Title of the plot\n",
    "    xlabel - x-axis label of the plot\n",
    "    '''\n",
    "    import matplotlib.pyplot as plt\n",
    "    fig, ax = plt.subplots(1,1,figsize = size)\n",
    "    plt.barh(df[col1],df[col2],label = col2)\n",
    "            \n",
    "    if title:\n",
    "        ax.set_title(title)   \n",
    "    else:\n",
    "        ax.set_title('{} vs {}'.format(col2, col1))\n",
    "    if xlabel:\n",
    "        ax.set_xlabel(xlabel)\n",
    "    else:\n",
    "        ax.set_xlabel(col2)\n",
    "    return plt.show()    "
   ]
  },
  {
   "cell_type": "code",
   "execution_count": 22,
   "metadata": {},
   "outputs": [],
   "source": [
    "# Function to sort the values:\n",
    "def sort_vals(df,col):\n",
    "    '''\n",
    "    sorts values according to the column provided in ascending order and returns a dataframe with \n",
    "    index reset\n",
    "    \n",
    "    INPUT:\n",
    "    df - dataframe to be sorted\n",
    "    col - column to be sorted on\n",
    "    \n",
    "    OUTPUT:\n",
    "    df_new - sorted dataframe with index reset\n",
    "    \n",
    "    '''\n",
    "    df_new = df.sort_values(by = col)\n",
    "    df_new.reset_index().drop('index', axis = 1, inplace = True)\n",
    "    return df_new"
   ]
  },
  {
   "cell_type": "code",
   "execution_count": 23,
   "metadata": {},
   "outputs": [
    {
     "data": {
      "text/html": [
       "<div>\n",
       "<style scoped>\n",
       "    .dataframe tbody tr th:only-of-type {\n",
       "        vertical-align: middle;\n",
       "    }\n",
       "\n",
       "    .dataframe tbody tr th {\n",
       "        vertical-align: top;\n",
       "    }\n",
       "\n",
       "    .dataframe thead th {\n",
       "        text-align: right;\n",
       "    }\n",
       "</style>\n",
       "<table border=\"1\" class=\"dataframe\">\n",
       "  <thead>\n",
       "    <tr style=\"text-align: right;\">\n",
       "      <th></th>\n",
       "      <th>AC_YEAR</th>\n",
       "      <th>STATCD</th>\n",
       "      <th>STATNAME</th>\n",
       "      <th>DISTRICTS</th>\n",
       "      <th>BLOCKS</th>\n",
       "      <th>VILLAGES</th>\n",
       "      <th>CLUSTERS</th>\n",
       "      <th>TOTPOPULAT</th>\n",
       "      <th>P_OF_SCH</th>\n",
       "      <th>POPULATION_0_6</th>\n",
       "      <th>...</th>\n",
       "      <th>USCR35</th>\n",
       "      <th>NOTCH_ASS</th>\n",
       "      <th>TCHINV</th>\n",
       "      <th>TOTCLS1G</th>\n",
       "      <th>TOTCLS2G</th>\n",
       "      <th>TOTCLS3G</th>\n",
       "      <th>TOTCLS4G</th>\n",
       "      <th>TOTCLS5G</th>\n",
       "      <th>TOTCLS6G</th>\n",
       "      <th>TOTCLS7G</th>\n",
       "    </tr>\n",
       "  </thead>\n",
       "  <tbody>\n",
       "    <tr>\n",
       "      <th>9</th>\n",
       "      <td>2015-16</td>\n",
       "      <td>10</td>\n",
       "      <td>BIHAR</td>\n",
       "      <td>38</td>\n",
       "      <td>537</td>\n",
       "      <td>40779</td>\n",
       "      <td>5633</td>\n",
       "      <td>103805</td>\n",
       "      <td>8.36</td>\n",
       "      <td>17.90</td>\n",
       "      <td>...</td>\n",
       "      <td>26429</td>\n",
       "      <td>49110</td>\n",
       "      <td>3614</td>\n",
       "      <td>147323</td>\n",
       "      <td>272919</td>\n",
       "      <td>11332</td>\n",
       "      <td>2481</td>\n",
       "      <td>475</td>\n",
       "      <td>23095</td>\n",
       "      <td>927</td>\n",
       "    </tr>\n",
       "    <tr>\n",
       "      <th>35</th>\n",
       "      <td>2015-16</td>\n",
       "      <td>36</td>\n",
       "      <td>TELANGANA</td>\n",
       "      <td>10</td>\n",
       "      <td>459</td>\n",
       "      <td>9934</td>\n",
       "      <td>1776</td>\n",
       "      <td>352</td>\n",
       "      <td>38.67</td>\n",
       "      <td>39.20</td>\n",
       "      <td>...</td>\n",
       "      <td>4823</td>\n",
       "      <td>18295</td>\n",
       "      <td>4418</td>\n",
       "      <td>76082</td>\n",
       "      <td>52862</td>\n",
       "      <td>1982</td>\n",
       "      <td>0</td>\n",
       "      <td>1165</td>\n",
       "      <td>49790</td>\n",
       "      <td>37117</td>\n",
       "    </tr>\n",
       "    <tr>\n",
       "      <th>11</th>\n",
       "      <td>2015-16</td>\n",
       "      <td>12</td>\n",
       "      <td>ARUNACHAL PRADESH</td>\n",
       "      <td>20</td>\n",
       "      <td>99</td>\n",
       "      <td>2982</td>\n",
       "      <td>234</td>\n",
       "      <td>1383</td>\n",
       "      <td>16.48</td>\n",
       "      <td>14.66</td>\n",
       "      <td>...</td>\n",
       "      <td>188</td>\n",
       "      <td>5497</td>\n",
       "      <td>504</td>\n",
       "      <td>8564</td>\n",
       "      <td>9020</td>\n",
       "      <td>820</td>\n",
       "      <td>202</td>\n",
       "      <td>304</td>\n",
       "      <td>2022</td>\n",
       "      <td>206</td>\n",
       "    </tr>\n",
       "    <tr>\n",
       "      <th>7</th>\n",
       "      <td>2015-16</td>\n",
       "      <td>8</td>\n",
       "      <td>RAJASTHAN</td>\n",
       "      <td>33</td>\n",
       "      <td>302</td>\n",
       "      <td>41441</td>\n",
       "      <td>10594</td>\n",
       "      <td>68621</td>\n",
       "      <td>19.26</td>\n",
       "      <td>15.31</td>\n",
       "      <td>...</td>\n",
       "      <td>11705</td>\n",
       "      <td>40162</td>\n",
       "      <td>2701</td>\n",
       "      <td>125798</td>\n",
       "      <td>253514</td>\n",
       "      <td>120330</td>\n",
       "      <td>979</td>\n",
       "      <td>5189</td>\n",
       "      <td>86126</td>\n",
       "      <td>1720</td>\n",
       "    </tr>\n",
       "    <tr>\n",
       "      <th>19</th>\n",
       "      <td>2015-16</td>\n",
       "      <td>20</td>\n",
       "      <td>JHARKHAND</td>\n",
       "      <td>24</td>\n",
       "      <td>260</td>\n",
       "      <td>27862</td>\n",
       "      <td>2264</td>\n",
       "      <td>32966</td>\n",
       "      <td>18.18</td>\n",
       "      <td>15.89</td>\n",
       "      <td>...</td>\n",
       "      <td>5951</td>\n",
       "      <td>30819</td>\n",
       "      <td>3189</td>\n",
       "      <td>92258</td>\n",
       "      <td>125475</td>\n",
       "      <td>7618</td>\n",
       "      <td>556</td>\n",
       "      <td>2004</td>\n",
       "      <td>20625</td>\n",
       "      <td>3254</td>\n",
       "    </tr>\n",
       "  </tbody>\n",
       "</table>\n",
       "<p>5 rows × 816 columns</p>\n",
       "</div>"
      ],
      "text/plain": [
       "    AC_YEAR  STATCD           STATNAME  DISTRICTS  BLOCKS  VILLAGES  CLUSTERS  \\\n",
       "9   2015-16      10              BIHAR         38     537     40779      5633   \n",
       "35  2015-16      36          TELANGANA         10     459      9934      1776   \n",
       "11  2015-16      12  ARUNACHAL PRADESH         20      99      2982       234   \n",
       "7   2015-16       8          RAJASTHAN         33     302     41441     10594   \n",
       "19  2015-16      20          JHARKHAND         24     260     27862      2264   \n",
       "\n",
       "    TOTPOPULAT  P_OF_SCH  POPULATION_0_6    ...     USCR35  NOTCH_ASS  TCHINV  \\\n",
       "9       103805      8.36           17.90    ...      26429      49110    3614   \n",
       "35         352     38.67           39.20    ...       4823      18295    4418   \n",
       "11        1383     16.48           14.66    ...        188       5497     504   \n",
       "7        68621     19.26           15.31    ...      11705      40162    2701   \n",
       "19       32966     18.18           15.89    ...       5951      30819    3189   \n",
       "\n",
       "    TOTCLS1G  TOTCLS2G  TOTCLS3G  TOTCLS4G  TOTCLS5G  TOTCLS6G  TOTCLS7G  \n",
       "9     147323    272919     11332      2481       475     23095       927  \n",
       "35     76082     52862      1982         0      1165     49790     37117  \n",
       "11      8564      9020       820       202       304      2022       206  \n",
       "7     125798    253514    120330       979      5189     86126      1720  \n",
       "19     92258    125475      7618       556      2004     20625      3254  \n",
       "\n",
       "[5 rows x 816 columns]"
      ]
     },
     "execution_count": 23,
     "metadata": {},
     "output_type": "execute_result"
    }
   ],
   "source": [
    "# 'OVERALL_LI' is the overall literacy rate for each state\n",
    "Stat_Elem = sort_vals(Stat_Elem, 'OVERALL_LI')\n",
    "Stat_Elem.head()"
   ]
  },
  {
   "cell_type": "code",
   "execution_count": 24,
   "metadata": {},
   "outputs": [
    {
     "data": {
      "image/png": "[encoded data removed]",
      "text/plain": [
       "<Figure size 864x864 with 1 Axes>"
      ]
     },
     "metadata": {
      "needs_background": "light"
     },
     "output_type": "display_data"
    }
   ],
   "source": [
    "bar_plot(Stat_Elem, 'STATNAME', 'OVERALL_LI', title = 'Literacy rates comparison \\\n",
    "among different states' , xlabel = 'Literacy rate')"
   ]
  },
  {
   "cell_type": "markdown",
   "metadata": {},
   "source": [
    "From above bar graph, we can see states with highest and lowest literacy rates."
   ]
  },
  {
   "cell_type": "code",
   "execution_count": 25,
   "metadata": {},
   "outputs": [],
   "source": [
    "# Sorting Values of male and female literacy rate\n",
    "Stat_Elem = sort_vals(Stat_Elem, 'FEMALE_LIT')\n",
    "Stat_Elem1 = sort_vals(Stat_Elem, 'MALE_LIT')"
   ]
  },
  {
   "cell_type": "code",
   "execution_count": 26,
   "metadata": {},
   "outputs": [
    {
     "data": {
      "image/png": "[encoded data removed]",
      "text/plain": [
       "<Figure size 864x864 with 1 Axes>"
      ]
     },
     "metadata": {
      "needs_background": "light"
     },
     "output_type": "display_data"
    }
   ],
   "source": [
    "# Plottting Female literacy among different states\n",
    "bar_plot(Stat_Elem, 'STATNAME', 'FEMALE_LIT')"
   ]
  },
  {
   "cell_type": "markdown",
   "metadata": {},
   "source": [
    "We can see __Rajasthan__ has worst literacy rate for girls. "
   ]
  },
  {
   "cell_type": "code",
   "execution_count": 27,
   "metadata": {},
   "outputs": [
    {
     "data": {
      "image/png": "[encoded data removed]",
      "text/plain": [
       "<Figure size 864x864 with 1 Axes>"
      ]
     },
     "metadata": {
      "needs_background": "light"
     },
     "output_type": "display_data"
    }
   ],
   "source": [
    "# Plottting male literacy among different states\n",
    "bar_plot(Stat_Elem1, 'STATNAME', 'MALE_LIT')"
   ]
  },
  {
   "cell_type": "markdown",
   "metadata": {},
   "source": [
    "We can see __Bihar__ has worst literacy rate for boys. "
   ]
  },
  {
   "cell_type": "code",
   "execution_count": 28,
   "metadata": {},
   "outputs": [],
   "source": [
    "#Sorting Overall literacy rate\n",
    "Stat_Elem = sort_vals(Stat_Elem1, 'OVERALL_LI')"
   ]
  },
  {
   "cell_type": "code",
   "execution_count": 29,
   "metadata": {},
   "outputs": [
    {
     "data": {
      "text/plain": [
       "<matplotlib.axes._subplots.AxesSubplot at 0x1a24a89d68>"
      ]
     },
     "execution_count": 29,
     "metadata": {},
     "output_type": "execute_result"
    },
    {
     "data": {
      "image/png": "[encoded data removed]",
      "text/plain": [
       "<Figure size 864x432 with 1 Axes>"
      ]
     },
     "metadata": {
      "needs_background": "light"
     },
     "output_type": "display_data"
    }
   ],
   "source": [
    "Stat_Elem.plot(kind = 'bar', x = 'STATNAME', y = ['MALE_LIT','FEMALE_LIT'], stacked = False, figsize=(12,6),\n",
    "              width = 0.8,color = ['blue', 'red'])"
   ]
  },
  {
   "cell_type": "markdown",
   "metadata": {},
   "source": [
    "From above state, we are seeing all states have diffrence in literacy between male and females. "
   ]
  },
  {
   "cell_type": "code",
   "execution_count": 30,
   "metadata": {},
   "outputs": [],
   "source": [
    "# Checking Difference in male and female literacy rate\n",
    "Stat_Elem['DIFF_LIT'] = Stat_Elem.MALE_LIT - Stat_Elem.FEMALE_LIT "
   ]
  },
  {
   "cell_type": "code",
   "execution_count": 31,
   "metadata": {},
   "outputs": [
    {
     "name": "stdout",
     "output_type": "stream",
     "text": [
      "India's avg difference in literacy rate between men and women is : 13.89361111111111\n"
     ]
    }
   ],
   "source": [
    "# Average difference in literacy rates\n",
    "Diff_lit_mean = Stat_Elem.DIFF_LIT.mean()\n",
    "print(\"India's avg difference in literacy rate between men and women is : {}\".format(Diff_lit_mean))"
   ]
  },
  {
   "cell_type": "code",
   "execution_count": 32,
   "metadata": {},
   "outputs": [
    {
     "data": {
      "text/html": [
       "<div>\n",
       "<style scoped>\n",
       "    .dataframe tbody tr th:only-of-type {\n",
       "        vertical-align: middle;\n",
       "    }\n",
       "\n",
       "    .dataframe tbody tr th {\n",
       "        vertical-align: top;\n",
       "    }\n",
       "\n",
       "    .dataframe thead th {\n",
       "        text-align: right;\n",
       "    }\n",
       "</style>\n",
       "<table border=\"1\" class=\"dataframe\">\n",
       "  <thead>\n",
       "    <tr style=\"text-align: right;\">\n",
       "      <th></th>\n",
       "      <th>STATNAME</th>\n",
       "      <th>DIFF_LIT</th>\n",
       "    </tr>\n",
       "  </thead>\n",
       "  <tbody>\n",
       "    <tr>\n",
       "      <th>16</th>\n",
       "      <td>MEGHALAYA</td>\n",
       "      <td>3.39</td>\n",
       "    </tr>\n",
       "    <tr>\n",
       "      <th>31</th>\n",
       "      <td>KERALA</td>\n",
       "      <td>4.04</td>\n",
       "    </tr>\n",
       "    <tr>\n",
       "      <th>14</th>\n",
       "      <td>MIZORAM</td>\n",
       "      <td>4.32</td>\n",
       "    </tr>\n",
       "    <tr>\n",
       "      <th>12</th>\n",
       "      <td>NAGALAND</td>\n",
       "      <td>6.60</td>\n",
       "    </tr>\n",
       "    <tr>\n",
       "      <th>30</th>\n",
       "      <td>LAKSHADWEEP</td>\n",
       "      <td>7.86</td>\n",
       "    </tr>\n",
       "  </tbody>\n",
       "</table>\n",
       "</div>"
      ],
      "text/plain": [
       "       STATNAME  DIFF_LIT\n",
       "16    MEGHALAYA      3.39\n",
       "31       KERALA      4.04\n",
       "14      MIZORAM      4.32\n",
       "12     NAGALAND      6.60\n",
       "30  LAKSHADWEEP      7.86"
      ]
     },
     "execution_count": 32,
     "metadata": {},
     "output_type": "execute_result"
    }
   ],
   "source": [
    "# States with the least male and female literacy rates difference\n",
    "sort_vals(Stat_Elem, 'DIFF_LIT').head()[['STATNAME','DIFF_LIT']]"
   ]
  },
  {
   "cell_type": "code",
   "execution_count": 33,
   "metadata": {},
   "outputs": [
    {
     "data": {
      "text/html": [
       "<div>\n",
       "<style scoped>\n",
       "    .dataframe tbody tr th:only-of-type {\n",
       "        vertical-align: middle;\n",
       "    }\n",
       "\n",
       "    .dataframe tbody tr th {\n",
       "        vertical-align: top;\n",
       "    }\n",
       "\n",
       "    .dataframe thead th {\n",
       "        text-align: right;\n",
       "    }\n",
       "</style>\n",
       "<table border=\"1\" class=\"dataframe\">\n",
       "  <thead>\n",
       "    <tr style=\"text-align: right;\">\n",
       "      <th></th>\n",
       "      <th>STATNAME</th>\n",
       "      <th>DIFF_LIT</th>\n",
       "    </tr>\n",
       "  </thead>\n",
       "  <tbody>\n",
       "    <tr>\n",
       "      <th>22</th>\n",
       "      <td>MADHYA PRADESH</td>\n",
       "      <td>20.51</td>\n",
       "    </tr>\n",
       "    <tr>\n",
       "      <th>25</th>\n",
       "      <td>DADRA &amp; NAGAR HAVELI</td>\n",
       "      <td>20.53</td>\n",
       "    </tr>\n",
       "    <tr>\n",
       "      <th>21</th>\n",
       "      <td>CHHATTISGARH</td>\n",
       "      <td>20.86</td>\n",
       "    </tr>\n",
       "    <tr>\n",
       "      <th>19</th>\n",
       "      <td>JHARKHAND</td>\n",
       "      <td>22.24</td>\n",
       "    </tr>\n",
       "    <tr>\n",
       "      <th>7</th>\n",
       "      <td>RAJASTHAN</td>\n",
       "      <td>27.85</td>\n",
       "    </tr>\n",
       "  </tbody>\n",
       "</table>\n",
       "</div>"
      ],
      "text/plain": [
       "                STATNAME  DIFF_LIT\n",
       "22        MADHYA PRADESH     20.51\n",
       "25  DADRA & NAGAR HAVELI     20.53\n",
       "21          CHHATTISGARH     20.86\n",
       "19             JHARKHAND     22.24\n",
       "7              RAJASTHAN     27.85"
      ]
     },
     "execution_count": 33,
     "metadata": {},
     "output_type": "execute_result"
    }
   ],
   "source": [
    "# States with the highest male and female literacy rates difference\n",
    "sort_vals(Stat_Elem, 'DIFF_LIT').tail()[['STATNAME','DIFF_LIT']]"
   ]
  },
  {
   "cell_type": "code",
   "execution_count": 34,
   "metadata": {},
   "outputs": [
    {
     "name": "stdout",
     "output_type": "stream",
     "text": [
      "The avg in DIFF_LIT for north-eastern states (9.1475) is much less than the national avg (13.89361111111111).\n"
     ]
    }
   ],
   "source": [
    "# Checking the difference in lit_rate of north east states and overall \n",
    "North_East = ['NAGALAND','MANIPUR','MIZORAM','ASSAM','TRIPURA','ARUNACHAL PRADESH','MEGHALAYA','SIKKIM']\n",
    "Stat_Elem.set_index(Stat_Elem.STATNAME,inplace = True)\n",
    "Ne_diff_lit_mean = Stat_Elem.loc[North_East,'DIFF_LIT' ].mean()\n",
    "print('The avg in DIFF_LIT for north-eastern states ({}) is much less than the national avg ({}).'.format(Ne_diff_lit_mean,Diff_lit_mean))"
   ]
  },
  {
   "cell_type": "code",
   "execution_count": 35,
   "metadata": {},
   "outputs": [],
   "source": [
    "# Preparing Data for top3 and bottom3 states as per literacy rate\n",
    "# We will drop Telangana from bottom 3 as its been recently founded(2014)\n",
    "Top_3 = Stat_Elem.sort_values(by = 'OVERALL_LI', ascending = False).head(3)\n",
    "Bottom_3 = Stat_Elem.sort_values(by = 'OVERALL_LI', ascending = True).head(4).drop('TELANGANA',axis = 0)"
   ]
  },
  {
   "cell_type": "code",
   "execution_count": 36,
   "metadata": {},
   "outputs": [
    {
     "data": {
      "text/html": [
       "<div>\n",
       "<style scoped>\n",
       "    .dataframe tbody tr th:only-of-type {\n",
       "        vertical-align: middle;\n",
       "    }\n",
       "\n",
       "    .dataframe tbody tr th {\n",
       "        vertical-align: top;\n",
       "    }\n",
       "\n",
       "    .dataframe thead th {\n",
       "        text-align: right;\n",
       "    }\n",
       "</style>\n",
       "<table border=\"1\" class=\"dataframe\">\n",
       "  <thead>\n",
       "    <tr style=\"text-align: right;\">\n",
       "      <th></th>\n",
       "      <th>AC_YEAR</th>\n",
       "      <th>STATCD</th>\n",
       "      <th>STATNAME</th>\n",
       "      <th>DISTRICTS</th>\n",
       "      <th>BLOCKS</th>\n",
       "      <th>VILLAGES</th>\n",
       "      <th>CLUSTERS</th>\n",
       "      <th>TOTPOPULAT</th>\n",
       "      <th>P_OF_SCH</th>\n",
       "      <th>POPULATION_0_6</th>\n",
       "      <th>...</th>\n",
       "      <th>NOTCH_ASS</th>\n",
       "      <th>TCHINV</th>\n",
       "      <th>TOTCLS1G</th>\n",
       "      <th>TOTCLS2G</th>\n",
       "      <th>TOTCLS3G</th>\n",
       "      <th>TOTCLS4G</th>\n",
       "      <th>TOTCLS5G</th>\n",
       "      <th>TOTCLS6G</th>\n",
       "      <th>TOTCLS7G</th>\n",
       "      <th>DIFF_LIT</th>\n",
       "    </tr>\n",
       "    <tr>\n",
       "      <th>STATNAME</th>\n",
       "      <th></th>\n",
       "      <th></th>\n",
       "      <th></th>\n",
       "      <th></th>\n",
       "      <th></th>\n",
       "      <th></th>\n",
       "      <th></th>\n",
       "      <th></th>\n",
       "      <th></th>\n",
       "      <th></th>\n",
       "      <th></th>\n",
       "      <th></th>\n",
       "      <th></th>\n",
       "      <th></th>\n",
       "      <th></th>\n",
       "      <th></th>\n",
       "      <th></th>\n",
       "      <th></th>\n",
       "      <th></th>\n",
       "      <th></th>\n",
       "      <th></th>\n",
       "    </tr>\n",
       "  </thead>\n",
       "  <tbody>\n",
       "    <tr>\n",
       "      <th>KERALA</th>\n",
       "      <td>2015-16</td>\n",
       "      <td>32</td>\n",
       "      <td>KERALA</td>\n",
       "      <td>14</td>\n",
       "      <td>166</td>\n",
       "      <td>1907</td>\n",
       "      <td>1375</td>\n",
       "      <td>33388</td>\n",
       "      <td>24.76</td>\n",
       "      <td>9.95</td>\n",
       "      <td>...</td>\n",
       "      <td>3561</td>\n",
       "      <td>675</td>\n",
       "      <td>51419</td>\n",
       "      <td>43025</td>\n",
       "      <td>31335</td>\n",
       "      <td>5327</td>\n",
       "      <td>15449</td>\n",
       "      <td>17752</td>\n",
       "      <td>3936</td>\n",
       "      <td>4.04</td>\n",
       "    </tr>\n",
       "    <tr>\n",
       "      <th>LAKSHADWEEP</th>\n",
       "      <td>2015-16</td>\n",
       "      <td>31</td>\n",
       "      <td>LAKSHADWEEP</td>\n",
       "      <td>1</td>\n",
       "      <td>3</td>\n",
       "      <td>10</td>\n",
       "      <td>9</td>\n",
       "      <td>64</td>\n",
       "      <td>41.86</td>\n",
       "      <td>11.00</td>\n",
       "      <td>...</td>\n",
       "      <td>2395</td>\n",
       "      <td>209</td>\n",
       "      <td>139</td>\n",
       "      <td>150</td>\n",
       "      <td>49</td>\n",
       "      <td>15</td>\n",
       "      <td>28</td>\n",
       "      <td>11</td>\n",
       "      <td>0</td>\n",
       "      <td>7.86</td>\n",
       "    </tr>\n",
       "    <tr>\n",
       "      <th>MIZORAM</th>\n",
       "      <td>2015-16</td>\n",
       "      <td>15</td>\n",
       "      <td>MIZORAM</td>\n",
       "      <td>8</td>\n",
       "      <td>36</td>\n",
       "      <td>851</td>\n",
       "      <td>169</td>\n",
       "      <td>1091</td>\n",
       "      <td>40.42</td>\n",
       "      <td>15.17</td>\n",
       "      <td>...</td>\n",
       "      <td>4917</td>\n",
       "      <td>1386</td>\n",
       "      <td>6593</td>\n",
       "      <td>3267</td>\n",
       "      <td>0</td>\n",
       "      <td>4575</td>\n",
       "      <td>0</td>\n",
       "      <td>0</td>\n",
       "      <td>0</td>\n",
       "      <td>4.32</td>\n",
       "    </tr>\n",
       "    <tr>\n",
       "      <th>BIHAR</th>\n",
       "      <td>2015-16</td>\n",
       "      <td>10</td>\n",
       "      <td>BIHAR</td>\n",
       "      <td>38</td>\n",
       "      <td>537</td>\n",
       "      <td>40779</td>\n",
       "      <td>5633</td>\n",
       "      <td>103805</td>\n",
       "      <td>8.36</td>\n",
       "      <td>17.90</td>\n",
       "      <td>...</td>\n",
       "      <td>49110</td>\n",
       "      <td>3614</td>\n",
       "      <td>147323</td>\n",
       "      <td>272919</td>\n",
       "      <td>11332</td>\n",
       "      <td>2481</td>\n",
       "      <td>475</td>\n",
       "      <td>23095</td>\n",
       "      <td>927</td>\n",
       "      <td>20.06</td>\n",
       "    </tr>\n",
       "    <tr>\n",
       "      <th>ARUNACHAL PRADESH</th>\n",
       "      <td>2015-16</td>\n",
       "      <td>12</td>\n",
       "      <td>ARUNACHAL PRADESH</td>\n",
       "      <td>20</td>\n",
       "      <td>99</td>\n",
       "      <td>2982</td>\n",
       "      <td>234</td>\n",
       "      <td>1383</td>\n",
       "      <td>16.48</td>\n",
       "      <td>14.66</td>\n",
       "      <td>...</td>\n",
       "      <td>5497</td>\n",
       "      <td>504</td>\n",
       "      <td>8564</td>\n",
       "      <td>9020</td>\n",
       "      <td>820</td>\n",
       "      <td>202</td>\n",
       "      <td>304</td>\n",
       "      <td>2022</td>\n",
       "      <td>206</td>\n",
       "      <td>14.12</td>\n",
       "    </tr>\n",
       "  </tbody>\n",
       "</table>\n",
       "<p>5 rows × 817 columns</p>\n",
       "</div>"
      ],
      "text/plain": [
       "                   AC_YEAR  STATCD           STATNAME  DISTRICTS  BLOCKS  \\\n",
       "STATNAME                                                                   \n",
       "KERALA             2015-16      32             KERALA         14     166   \n",
       "LAKSHADWEEP        2015-16      31        LAKSHADWEEP          1       3   \n",
       "MIZORAM            2015-16      15            MIZORAM          8      36   \n",
       "BIHAR              2015-16      10              BIHAR         38     537   \n",
       "ARUNACHAL PRADESH  2015-16      12  ARUNACHAL PRADESH         20      99   \n",
       "\n",
       "                   VILLAGES  CLUSTERS  TOTPOPULAT  P_OF_SCH  POPULATION_0_6  \\\n",
       "STATNAME                                                                      \n",
       "KERALA                 1907      1375       33388     24.76            9.95   \n",
       "LAKSHADWEEP              10         9          64     41.86           11.00   \n",
       "MIZORAM                 851       169        1091     40.42           15.17   \n",
       "BIHAR                 40779      5633      103805      8.36           17.90   \n",
       "ARUNACHAL PRADESH      2982       234        1383     16.48           14.66   \n",
       "\n",
       "                     ...     NOTCH_ASS  TCHINV  TOTCLS1G  TOTCLS2G  TOTCLS3G  \\\n",
       "STATNAME             ...                                                       \n",
       "KERALA               ...          3561     675     51419     43025     31335   \n",
       "LAKSHADWEEP          ...          2395     209       139       150        49   \n",
       "MIZORAM              ...          4917    1386      6593      3267         0   \n",
       "BIHAR                ...         49110    3614    147323    272919     11332   \n",
       "ARUNACHAL PRADESH    ...          5497     504      8564      9020       820   \n",
       "\n",
       "                   TOTCLS4G  TOTCLS5G  TOTCLS6G  TOTCLS7G  DIFF_LIT  \n",
       "STATNAME                                                             \n",
       "KERALA                 5327     15449     17752      3936      4.04  \n",
       "LAKSHADWEEP              15        28        11         0      7.86  \n",
       "MIZORAM                4575         0         0         0      4.32  \n",
       "BIHAR                  2481       475     23095       927     20.06  \n",
       "ARUNACHAL PRADESH       202       304      2022       206     14.12  \n",
       "\n",
       "[5 rows x 817 columns]"
      ]
     },
     "execution_count": 36,
     "metadata": {},
     "output_type": "execute_result"
    }
   ],
   "source": [
    "Top_bottom = pd.concat([Top_3, Bottom_3], axis = 0, sort = False)\n",
    "Top_bottom.head()"
   ]
  },
  {
   "cell_type": "code",
   "execution_count": 37,
   "metadata": {},
   "outputs": [],
   "source": [
    "# Function to display the string in elemantry column\n",
    "def display_desc(row):\n",
    "    '''\n",
    "    Displays the full string in the description column of the meta elementary dataset\n",
    "    \n",
    "    INPUT:\n",
    "    row - (str) value of the field name you want the description for\n",
    "    \n",
    "    '''\n",
    "    return Stat_Elem_Met[Stat_Elem_Met['Field name'] == row].Description.values[0]"
   ]
  },
  {
   "cell_type": "code",
   "execution_count": 38,
   "metadata": {},
   "outputs": [
    {
     "data": {
      "text/plain": [
       "\"Basic data from Census 2011: Total Population(in 1000's)\""
      ]
     },
     "execution_count": 38,
     "metadata": {},
     "output_type": "execute_result"
    }
   ],
   "source": [
    "display_desc('TOTPOPULAT')"
   ]
  },
  {
   "cell_type": "code",
   "execution_count": 39,
   "metadata": {},
   "outputs": [
    {
     "data": {
      "text/plain": [
       "STATNAME\n",
       "KERALA                859.120500\n",
       "LAKSHADWEEP          2000.000000\n",
       "MIZORAM                51.752763\n",
       "BIHAR                1102.396907\n",
       "ARUNACHAL PRADESH      16.514813\n",
       "RAJASTHAN             200.506079\n",
       "dtype: float64"
      ]
     },
     "execution_count": 39,
     "metadata": {},
     "output_type": "execute_result"
    }
   ],
   "source": [
    "#Checking Population Density\n",
    "Top_bottom.TOTPOPULAT/Top_bottom.AREA_SQKM * 1000"
   ]
  },
  {
   "cell_type": "markdown",
   "metadata": {},
   "source": [
    "From above, we can see that population desnsity is not a factor for literacy rate"
   ]
  },
  {
   "cell_type": "code",
   "execution_count": 40,
   "metadata": {},
   "outputs": [
    {
     "data": {
      "text/plain": [
       "STATNAME\n",
       "KERALA                4.04\n",
       "LAKSHADWEEP           7.86\n",
       "MIZORAM               4.32\n",
       "BIHAR                20.06\n",
       "ARUNACHAL PRADESH    14.12\n",
       "RAJASTHAN            27.85\n",
       "Name: DIFF_LIT, dtype: float64"
      ]
     },
     "execution_count": 40,
     "metadata": {},
     "output_type": "execute_result"
    }
   ],
   "source": [
    "# DIFF_LIT is the variable we created earlier that by subtracting female literacy rate from the male literacy rate\n",
    "Top_bottom.DIFF_LIT"
   ]
  },
  {
   "cell_type": "code",
   "execution_count": 42,
   "metadata": {},
   "outputs": [
    {
     "data": {
      "image/png": "[encoded data removed]",
      "text/plain": [
       "<Figure size 432x288 with 1 Axes>"
      ]
     },
     "metadata": {
      "needs_background": "light"
     },
     "output_type": "display_data"
    }
   ],
   "source": [
    "Top_bottom.plot(y = 'DIFF_LIT',kind= 'bar')\n",
    "plt.title('Top 3 vs Bottom 3 states for DIFF_LIT')\n",
    "plt.show()"
   ]
  },
  {
   "cell_type": "markdown",
   "metadata": {},
   "source": [
    "Rajasthan and Bihar has the most difference in male and female literacy rates. "
   ]
  },
  {
   "cell_type": "code",
   "execution_count": 44,
   "metadata": {},
   "outputs": [
    {
     "data": {
      "text/plain": [
       "'Basic data from Census 2011: Percentage School'"
      ]
     },
     "execution_count": 44,
     "metadata": {},
     "output_type": "execute_result"
    }
   ],
   "source": [
    "# Checking Rural and Urban Populations\n",
    "display_desc('P_OF_SCH')"
   ]
  },
  {
   "cell_type": "code",
   "execution_count": 97,
   "metadata": {},
   "outputs": [],
   "source": [
    "# Calculating Rural Population\n",
    "Top_bottom['P_RUR_POP'] = 100 - Top_bottom['P_URB_POP']"
   ]
  },
  {
   "cell_type": "code",
   "execution_count": 98,
   "metadata": {},
   "outputs": [
    {
     "data": {
      "image/png": "[encoded data removed]",
      "text/plain": [
       "<Figure size 720x360 with 1 Axes>"
      ]
     },
     "metadata": {
      "needs_background": "light"
     },
     "output_type": "display_data"
    }
   ],
   "source": [
    "Top_bottom.plot(y = ['P_URB_POP', 'P_RUR_POP'], kind = 'bar', figsize = (10,5))\n",
    "plt.title('Diff in Rural and Urban Population')\n",
    "plt.show()"
   ]
  },
  {
   "cell_type": "markdown",
   "metadata": {},
   "source": [
    "From above, we can clearly see that, rural areas people are less motivated towards education."
   ]
  },
  {
   "cell_type": "code",
   "execution_count": 99,
   "metadata": {},
   "outputs": [
    {
     "data": {
      "text/plain": [
       "930.8888888888889"
      ]
     },
     "execution_count": 99,
     "metadata": {},
     "output_type": "execute_result"
    }
   ],
   "source": [
    "#Checking Sex Ratio(Sex ratio is the no. of females per 1000 males)\n",
    "Stat_Elem.SEXRATIO.mean()"
   ]
  },
  {
   "cell_type": "code",
   "execution_count": 100,
   "metadata": {},
   "outputs": [
    {
     "data": {
      "text/plain": [
       "STATNAME\n",
       "KERALA               1084\n",
       "LAKSHADWEEP           946\n",
       "MIZORAM               975\n",
       "BIHAR                 916\n",
       "ARUNACHAL PRADESH     920\n",
       "RAJASTHAN             926\n",
       "Name: SEXRATIO, dtype: int64"
      ]
     },
     "execution_count": 100,
     "metadata": {},
     "output_type": "execute_result"
    }
   ],
   "source": [
    "Top_bottom.SEXRATIO"
   ]
  },
  {
   "cell_type": "code",
   "execution_count": 101,
   "metadata": {},
   "outputs": [
    {
     "data": {
      "image/png": "[encoded data removed]",
      "text/plain": [
       "<Figure size 432x288 with 1 Axes>"
      ]
     },
     "metadata": {
      "needs_background": "light"
     },
     "output_type": "display_data"
    }
   ],
   "source": [
    "Top_bottom.plot(y ='SEXRATIO', kind = 'bar')\n",
    "plt.title('Sex Ration of top3 lit rate and bottom3 lit rate states ')\n",
    "plt.show()"
   ]
  },
  {
   "cell_type": "code",
   "execution_count": 102,
   "metadata": {},
   "outputs": [
    {
     "data": {
      "image/png": "[encoded data removed]",
      "text/plain": [
       "<Figure size 720x504 with 1 Axes>"
      ]
     },
     "metadata": {
      "needs_background": "light"
     },
     "output_type": "display_data"
    }
   ],
   "source": [
    "# Including more states for comparison\n",
    "Stat_Elem.sort_values(by = 'OVERALL_LI', inplace=True)\n",
    "pd.concat([Stat_Elem.head(10),Stat_Elem.tail(10)], axis = 1, sort = False).plot(kind= 'bar', y = 'SEXRATIO', figsize = (10,7),width = 1)\n",
    "plt.show()"
   ]
  },
  {
   "cell_type": "code",
   "execution_count": 103,
   "metadata": {},
   "outputs": [
    {
     "data": {
      "text/html": [
       "<div>\n",
       "<style scoped>\n",
       "    .dataframe tbody tr th:only-of-type {\n",
       "        vertical-align: middle;\n",
       "    }\n",
       "\n",
       "    .dataframe tbody tr th {\n",
       "        vertical-align: top;\n",
       "    }\n",
       "\n",
       "    .dataframe thead th {\n",
       "        text-align: right;\n",
       "    }\n",
       "</style>\n",
       "<table border=\"1\" class=\"dataframe\">\n",
       "  <thead>\n",
       "    <tr style=\"text-align: right;\">\n",
       "      <th></th>\n",
       "      <th>SEXRATIO</th>\n",
       "      <th>OVERALL_LI</th>\n",
       "    </tr>\n",
       "  </thead>\n",
       "  <tbody>\n",
       "    <tr>\n",
       "      <th>SEXRATIO</th>\n",
       "      <td>1.000000</td>\n",
       "      <td>-0.037555</td>\n",
       "    </tr>\n",
       "    <tr>\n",
       "      <th>OVERALL_LI</th>\n",
       "      <td>-0.037555</td>\n",
       "      <td>1.000000</td>\n",
       "    </tr>\n",
       "  </tbody>\n",
       "</table>\n",
       "</div>"
      ],
      "text/plain": [
       "            SEXRATIO  OVERALL_LI\n",
       "SEXRATIO    1.000000   -0.037555\n",
       "OVERALL_LI -0.037555    1.000000"
      ]
     },
     "execution_count": 103,
     "metadata": {},
     "output_type": "execute_result"
    }
   ],
   "source": [
    "#Checking Corelation between Sex Ration and Corelation\n",
    "Stat_Elem.loc[:,['SEXRATIO','OVERALL_LI']].corr()"
   ]
  },
  {
   "cell_type": "markdown",
   "metadata": {},
   "source": [
    "Clearly the sex ratio has nothing to do with the literacy level.The graphs dont show sex ratio affecting the literacy rate. Also the correlation's too weak."
   ]
  },
  {
   "cell_type": "code",
   "execution_count": 45,
   "metadata": {},
   "outputs": [
    {
     "name": "stdout",
     "output_type": "stream",
     "text": [
      "Basic data from Census 2011: Percentage of Female Enrollment\n",
      "Basic data from Census 2011: Percentage  of Female Teachers\n"
     ]
    }
   ],
   "source": [
    "# Female enrollment and teachers\n",
    "print(display_desc('P_of_Female_Enroll'))\n",
    "print(display_desc('P_Female_Teachers'))"
   ]
  },
  {
   "cell_type": "markdown",
   "metadata": {},
   "source": [
    "We can see that, overall literacy rate doesn't depend on the SC and ST population proportions because these are very different for all the above states."
   ]
  },
  {
   "cell_type": "code",
   "execution_count": 46,
   "metadata": {},
   "outputs": [
    {
     "name": "stdout",
     "output_type": "stream",
     "text": [
      "    Field name                                        Description\n",
      "28      SCHTOT                         Schools By Category: Total\n",
      "37     SCHTOTG             Schools by Category: Government: Total\n",
      "46     SCHTOTP               Schools by Category: Private : Total\n",
      "55     SCHTOTM  Schools by Category: Madarsas & Unrecognised: ...\n",
      "64    SCHTOTGR      Government Schools by Category - Rural: Total\n",
      "73    SCHTOTGA    Schools by Category: Government & Aided : Total\n",
      "82    SCHTOTPR         Private Schools by Category - Rural: Total\n",
      "91   SCHBOYTOT              Schools by Category: Boys Only: Total\n",
      "100  SCHGIRTOT             Schools by Category: Girls Only: Total\n"
     ]
    }
   ],
   "source": [
    "# Analysing some school related features\n",
    "Stat_Elem_Met_sc = Stat_Elem_Met[Stat_Elem_Met['Field name'].str.contains(r'^SCH\\w*TOT')]\n",
    "print(Stat_Elem_Met_sc)"
   ]
  },
  {
   "cell_type": "code",
   "execution_count": 108,
   "metadata": {},
   "outputs": [
    {
     "data": {
      "text/plain": [
       "'Schools By Category: Total'"
      ]
     },
     "execution_count": 108,
     "metadata": {},
     "output_type": "execute_result"
    }
   ],
   "source": [
    "# Lets check kids per school\n",
    "display_desc('SCHTOT')"
   ]
  },
  {
   "cell_type": "code",
   "execution_count": 109,
   "metadata": {},
   "outputs": [
    {
     "data": {
      "text/plain": [
       "'Projected Population : Age Group 6 to 10'"
      ]
     },
     "execution_count": 109,
     "metadata": {},
     "output_type": "execute_result"
    }
   ],
   "source": [
    "display_desc('TOT_6_10_15')"
   ]
  },
  {
   "cell_type": "code",
   "execution_count": 110,
   "metadata": {},
   "outputs": [
    {
     "data": {
      "text/plain": [
       "'Projected Population : Age Group 11 to 13'"
      ]
     },
     "execution_count": 110,
     "metadata": {},
     "output_type": "execute_result"
    }
   ],
   "source": [
    "display_desc('TOT_11_13_15')"
   ]
  },
  {
   "cell_type": "code",
   "execution_count": 111,
   "metadata": {},
   "outputs": [
    {
     "data": {
      "text/plain": [
       "STATNAME\n",
       "KERALA                16458\n",
       "LAKSHADWEEP              41\n",
       "MIZORAM                3072\n",
       "BIHAR                 80166\n",
       "ARUNACHAL PRADESH      4012\n",
       "RAJASTHAN            107931\n",
       "Name: SCHTOT, dtype: int64"
      ]
     },
     "execution_count": 111,
     "metadata": {},
     "output_type": "execute_result"
    }
   ],
   "source": [
    "# Total no. of schools for the top 3 and bottom 3 states \n",
    "Top_bottom.SCHTOT"
   ]
  },
  {
   "cell_type": "code",
   "execution_count": 114,
   "metadata": {},
   "outputs": [],
   "source": [
    "# No. of kids in the age group 6-15, i.e, elementary schoolkids\n",
    "Top_bottom['SCHKIDS'] = Top_bottom.TOT_6_10_15 + Top_bottom.TOT_11_13_15\n",
    "# No. of kids per school\n",
    "Top_bottom['KIDSPERSCH'] = Top_bottom.SCHKIDS/Top_bottom.SCHTOT"
   ]
  },
  {
   "cell_type": "code",
   "execution_count": 119,
   "metadata": {},
   "outputs": [
    {
     "data": {
      "image/png": "[encoded data removed]",
      "text/plain": [
       "<Figure size 432x288 with 1 Axes>"
      ]
     },
     "metadata": {
      "needs_background": "light"
     },
     "output_type": "display_data"
    }
   ],
   "source": [
    "#Plotting kids per school\n",
    "Top_bottom.plot(y = 'KIDSPERSCH', kind = 'bar')\n",
    "plt.title('Kids per school')\n",
    "plt.show()"
   ]
  },
  {
   "cell_type": "markdown",
   "metadata": {},
   "source": [
    "From above, we can see it is not a good measure to diffrentiate between top3 and bottom 3 schools as we dont know the school size."
   ]
  },
  {
   "cell_type": "markdown",
   "metadata": {},
   "source": [
    "### 6. Dividing the dataset into training,testing data and applying random forest model. <a class = \"anchor\" id = \"section6\"></a>"
   ]
  },
  {
   "cell_type": "code",
   "execution_count": 118,
   "metadata": {},
   "outputs": [
    {
     "data": {
      "text/html": [
       "<div>\n",
       "<style scoped>\n",
       "    .dataframe tbody tr th:only-of-type {\n",
       "        vertical-align: middle;\n",
       "    }\n",
       "\n",
       "    .dataframe tbody tr th {\n",
       "        vertical-align: top;\n",
       "    }\n",
       "\n",
       "    .dataframe thead th {\n",
       "        text-align: right;\n",
       "    }\n",
       "</style>\n",
       "<table border=\"1\" class=\"dataframe\">\n",
       "  <thead>\n",
       "    <tr style=\"text-align: right;\">\n",
       "      <th></th>\n",
       "      <th>AC_YEAR</th>\n",
       "      <th>STATCD</th>\n",
       "      <th>STATNAME</th>\n",
       "      <th>DISTRICTS</th>\n",
       "      <th>BLOCKS</th>\n",
       "      <th>VILLAGES</th>\n",
       "      <th>CLUSTERS</th>\n",
       "      <th>TOTPOPULAT</th>\n",
       "      <th>P_OF_SCH</th>\n",
       "      <th>POPULATION_0_6</th>\n",
       "      <th>...</th>\n",
       "      <th>NOTCH_ASS</th>\n",
       "      <th>TCHINV</th>\n",
       "      <th>TOTCLS1G</th>\n",
       "      <th>TOTCLS2G</th>\n",
       "      <th>TOTCLS3G</th>\n",
       "      <th>TOTCLS4G</th>\n",
       "      <th>TOTCLS5G</th>\n",
       "      <th>TOTCLS6G</th>\n",
       "      <th>TOTCLS7G</th>\n",
       "      <th>DIFF_LIT</th>\n",
       "    </tr>\n",
       "    <tr>\n",
       "      <th>STATNAME</th>\n",
       "      <th></th>\n",
       "      <th></th>\n",
       "      <th></th>\n",
       "      <th></th>\n",
       "      <th></th>\n",
       "      <th></th>\n",
       "      <th></th>\n",
       "      <th></th>\n",
       "      <th></th>\n",
       "      <th></th>\n",
       "      <th></th>\n",
       "      <th></th>\n",
       "      <th></th>\n",
       "      <th></th>\n",
       "      <th></th>\n",
       "      <th></th>\n",
       "      <th></th>\n",
       "      <th></th>\n",
       "      <th></th>\n",
       "      <th></th>\n",
       "      <th></th>\n",
       "    </tr>\n",
       "  </thead>\n",
       "  <tbody>\n",
       "    <tr>\n",
       "      <th>BIHAR</th>\n",
       "      <td>2015-16</td>\n",
       "      <td>10</td>\n",
       "      <td>BIHAR</td>\n",
       "      <td>38</td>\n",
       "      <td>537</td>\n",
       "      <td>40779</td>\n",
       "      <td>5633</td>\n",
       "      <td>103805</td>\n",
       "      <td>8.36</td>\n",
       "      <td>17.90</td>\n",
       "      <td>...</td>\n",
       "      <td>49110</td>\n",
       "      <td>3614</td>\n",
       "      <td>147323</td>\n",
       "      <td>272919</td>\n",
       "      <td>11332</td>\n",
       "      <td>2481</td>\n",
       "      <td>475</td>\n",
       "      <td>23095</td>\n",
       "      <td>927</td>\n",
       "      <td>20.06</td>\n",
       "    </tr>\n",
       "    <tr>\n",
       "      <th>TELANGANA</th>\n",
       "      <td>2015-16</td>\n",
       "      <td>36</td>\n",
       "      <td>TELANGANA</td>\n",
       "      <td>10</td>\n",
       "      <td>459</td>\n",
       "      <td>9934</td>\n",
       "      <td>1776</td>\n",
       "      <td>352</td>\n",
       "      <td>38.67</td>\n",
       "      <td>39.20</td>\n",
       "      <td>...</td>\n",
       "      <td>18295</td>\n",
       "      <td>4418</td>\n",
       "      <td>76082</td>\n",
       "      <td>52862</td>\n",
       "      <td>1982</td>\n",
       "      <td>0</td>\n",
       "      <td>1165</td>\n",
       "      <td>49790</td>\n",
       "      <td>37117</td>\n",
       "      <td>17.03</td>\n",
       "    </tr>\n",
       "    <tr>\n",
       "      <th>ARUNACHAL PRADESH</th>\n",
       "      <td>2015-16</td>\n",
       "      <td>12</td>\n",
       "      <td>ARUNACHAL PRADESH</td>\n",
       "      <td>20</td>\n",
       "      <td>99</td>\n",
       "      <td>2982</td>\n",
       "      <td>234</td>\n",
       "      <td>1383</td>\n",
       "      <td>16.48</td>\n",
       "      <td>14.66</td>\n",
       "      <td>...</td>\n",
       "      <td>5497</td>\n",
       "      <td>504</td>\n",
       "      <td>8564</td>\n",
       "      <td>9020</td>\n",
       "      <td>820</td>\n",
       "      <td>202</td>\n",
       "      <td>304</td>\n",
       "      <td>2022</td>\n",
       "      <td>206</td>\n",
       "      <td>14.12</td>\n",
       "    </tr>\n",
       "    <tr>\n",
       "      <th>RAJASTHAN</th>\n",
       "      <td>2015-16</td>\n",
       "      <td>8</td>\n",
       "      <td>RAJASTHAN</td>\n",
       "      <td>33</td>\n",
       "      <td>302</td>\n",
       "      <td>41441</td>\n",
       "      <td>10594</td>\n",
       "      <td>68621</td>\n",
       "      <td>19.26</td>\n",
       "      <td>15.31</td>\n",
       "      <td>...</td>\n",
       "      <td>40162</td>\n",
       "      <td>2701</td>\n",
       "      <td>125798</td>\n",
       "      <td>253514</td>\n",
       "      <td>120330</td>\n",
       "      <td>979</td>\n",
       "      <td>5189</td>\n",
       "      <td>86126</td>\n",
       "      <td>1720</td>\n",
       "      <td>27.85</td>\n",
       "    </tr>\n",
       "    <tr>\n",
       "      <th>JHARKHAND</th>\n",
       "      <td>2015-16</td>\n",
       "      <td>20</td>\n",
       "      <td>JHARKHAND</td>\n",
       "      <td>24</td>\n",
       "      <td>260</td>\n",
       "      <td>27862</td>\n",
       "      <td>2264</td>\n",
       "      <td>32966</td>\n",
       "      <td>18.18</td>\n",
       "      <td>15.89</td>\n",
       "      <td>...</td>\n",
       "      <td>30819</td>\n",
       "      <td>3189</td>\n",
       "      <td>92258</td>\n",
       "      <td>125475</td>\n",
       "      <td>7618</td>\n",
       "      <td>556</td>\n",
       "      <td>2004</td>\n",
       "      <td>20625</td>\n",
       "      <td>3254</td>\n",
       "      <td>22.24</td>\n",
       "    </tr>\n",
       "  </tbody>\n",
       "</table>\n",
       "<p>5 rows × 816 columns</p>\n",
       "</div>"
      ],
      "text/plain": [
       "                   AC_YEAR  STATCD           STATNAME  DISTRICTS  BLOCKS  \\\n",
       "STATNAME                                                                   \n",
       "BIHAR              2015-16      10              BIHAR         38     537   \n",
       "TELANGANA          2015-16      36          TELANGANA         10     459   \n",
       "ARUNACHAL PRADESH  2015-16      12  ARUNACHAL PRADESH         20      99   \n",
       "RAJASTHAN          2015-16       8          RAJASTHAN         33     302   \n",
       "JHARKHAND          2015-16      20          JHARKHAND         24     260   \n",
       "\n",
       "                   VILLAGES  CLUSTERS  TOTPOPULAT  P_OF_SCH  POPULATION_0_6  \\\n",
       "STATNAME                                                                      \n",
       "BIHAR                 40779      5633      103805      8.36           17.90   \n",
       "TELANGANA              9934      1776         352     38.67           39.20   \n",
       "ARUNACHAL PRADESH      2982       234        1383     16.48           14.66   \n",
       "RAJASTHAN             41441     10594       68621     19.26           15.31   \n",
       "JHARKHAND             27862      2264       32966     18.18           15.89   \n",
       "\n",
       "                     ...     NOTCH_ASS  TCHINV  TOTCLS1G  TOTCLS2G  TOTCLS3G  \\\n",
       "STATNAME             ...                                                       \n",
       "BIHAR                ...         49110    3614    147323    272919     11332   \n",
       "TELANGANA            ...         18295    4418     76082     52862      1982   \n",
       "ARUNACHAL PRADESH    ...          5497     504      8564      9020       820   \n",
       "RAJASTHAN            ...         40162    2701    125798    253514    120330   \n",
       "JHARKHAND            ...         30819    3189     92258    125475      7618   \n",
       "\n",
       "                   TOTCLS4G  TOTCLS5G  TOTCLS6G  TOTCLS7G  DIFF_LIT  \n",
       "STATNAME                                                             \n",
       "BIHAR                  2481       475     23095       927     20.06  \n",
       "TELANGANA                 0      1165     49790     37117     17.03  \n",
       "ARUNACHAL PRADESH       202       304      2022       206     14.12  \n",
       "RAJASTHAN               979      5189     86126      1720     27.85  \n",
       "JHARKHAND               556      2004     20625      3254     22.24  \n",
       "\n",
       "[5 rows x 816 columns]"
      ]
     },
     "execution_count": 118,
     "metadata": {},
     "output_type": "execute_result"
    }
   ],
   "source": [
    "#Applying Random Forest Model\n",
    "X = Stat_Elem.loc[:,Stat_Elem.columns != 'FEMALE_LIT']\n",
    "X.head()"
   ]
  },
  {
   "cell_type": "code",
   "execution_count": 117,
   "metadata": {},
   "outputs": [
    {
     "data": {
      "text/html": [
       "<div>\n",
       "<style scoped>\n",
       "    .dataframe tbody tr th:only-of-type {\n",
       "        vertical-align: middle;\n",
       "    }\n",
       "\n",
       "    .dataframe tbody tr th {\n",
       "        vertical-align: top;\n",
       "    }\n",
       "\n",
       "    .dataframe thead th {\n",
       "        text-align: right;\n",
       "    }\n",
       "</style>\n",
       "<table border=\"1\" class=\"dataframe\">\n",
       "  <thead>\n",
       "    <tr style=\"text-align: right;\">\n",
       "      <th></th>\n",
       "      <th>FEMALE_LIT</th>\n",
       "    </tr>\n",
       "    <tr>\n",
       "      <th>STATNAME</th>\n",
       "      <th></th>\n",
       "    </tr>\n",
       "  </thead>\n",
       "  <tbody>\n",
       "    <tr>\n",
       "      <th>BIHAR</th>\n",
       "      <td>53.33</td>\n",
       "    </tr>\n",
       "    <tr>\n",
       "      <th>TELANGANA</th>\n",
       "      <td>57.92</td>\n",
       "    </tr>\n",
       "    <tr>\n",
       "      <th>ARUNACHAL PRADESH</th>\n",
       "      <td>59.57</td>\n",
       "    </tr>\n",
       "    <tr>\n",
       "      <th>RAJASTHAN</th>\n",
       "      <td>52.66</td>\n",
       "    </tr>\n",
       "    <tr>\n",
       "      <th>JHARKHAND</th>\n",
       "      <td>56.21</td>\n",
       "    </tr>\n",
       "  </tbody>\n",
       "</table>\n",
       "</div>"
      ],
      "text/plain": [
       "                   FEMALE_LIT\n",
       "STATNAME                     \n",
       "BIHAR                   53.33\n",
       "TELANGANA               57.92\n",
       "ARUNACHAL PRADESH       59.57\n",
       "RAJASTHAN               52.66\n",
       "JHARKHAND               56.21"
      ]
     },
     "execution_count": 117,
     "metadata": {},
     "output_type": "execute_result"
    }
   ],
   "source": [
    "y = Stat_Elem.loc[:,Stat_Elem.columns == 'FEMALE_LIT']\n",
    "y.head()"
   ]
  },
  {
   "cell_type": "code",
   "execution_count": 119,
   "metadata": {},
   "outputs": [],
   "source": [
    "from sklearn.preprocessing import LabelEncoder\n",
    "labelencoder = LabelEncoder()\n",
    "X = labelencoder.fit_transform(X.iloc[:,0])"
   ]
  },
  {
   "cell_type": "code",
   "execution_count": 121,
   "metadata": {},
   "outputs": [],
   "source": [
    "X = pd.DataFrame(X)"
   ]
  },
  {
   "cell_type": "code",
   "execution_count": 122,
   "metadata": {},
   "outputs": [],
   "source": [
    "from sklearn.preprocessing import OneHotEncoder\n",
    "onehotencoder = OneHotEncoder(categorical_features = [0])\n",
    "X = onehotencoder.fit_transform(X).toarray()"
   ]
  },
  {
   "cell_type": "code",
   "execution_count": 123,
   "metadata": {},
   "outputs": [],
   "source": [
    "from sklearn.preprocessing import StandardScaler\n",
    "def generate():\n",
    "    standardized = StandardScaler()\n",
    "    standardized.fit(X)\n",
    "    return standardized.transform(X)\n",
    "X = generate()"
   ]
  },
  {
   "cell_type": "code",
   "execution_count": 124,
   "metadata": {},
   "outputs": [],
   "source": [
    "from sklearn.cross_validation import train_test_split\n",
    "X_train, X_test, y_train, y_test = train_test_split(X, y, test_size=0.30, random_state=1)"
   ]
  },
  {
   "cell_type": "code",
   "execution_count": 125,
   "metadata": {},
   "outputs": [
    {
     "name": "stdout",
     "output_type": "stream",
     "text": [
      "(25, 1)\n",
      "(25, 1)\n",
      "(11, 1)\n",
      "(11, 1)\n"
     ]
    }
   ],
   "source": [
    "print(X_train.shape)\n",
    "print(y_train.shape)\n",
    "print(X_test.shape)\n",
    "print(y_test.shape)"
   ]
  },
  {
   "cell_type": "code",
   "execution_count": 127,
   "metadata": {},
   "outputs": [
    {
     "name": "stderr",
     "output_type": "stream",
     "text": [
      "/anaconda3/lib/python3.7/site-packages/ipykernel_launcher.py:3: DataConversionWarning: A column-vector y was passed when a 1d array was expected. Please change the shape of y to (n_samples,), for example using ravel().\n",
      "  This is separate from the ipykernel package so we can avoid doing imports until\n"
     ]
    },
    {
     "data": {
      "text/plain": [
       "RandomForestRegressor(bootstrap=True, criterion='mse', max_depth=None,\n",
       "           max_features='auto', max_leaf_nodes=None,\n",
       "           min_impurity_decrease=0.0, min_impurity_split=None,\n",
       "           min_samples_leaf=1, min_samples_split=2,\n",
       "           min_weight_fraction_leaf=0.0, n_estimators=10, n_jobs=1,\n",
       "           oob_score=False, random_state=None, verbose=0, warm_start=False)"
      ]
     },
     "execution_count": 127,
     "metadata": {},
     "output_type": "execute_result"
    }
   ],
   "source": [
    "from sklearn.ensemble import RandomForestRegressor\n",
    "model = RandomForestRegressor()\n",
    "model.fit(X_train, y_train)\n"
   ]
  },
  {
   "cell_type": "code",
   "execution_count": 128,
   "metadata": {},
   "outputs": [
    {
     "name": "stdout",
     "output_type": "stream",
     "text": [
      "[69.61864 69.61864 69.61864 69.61864 69.61864 69.61864 69.61864 69.61864\n",
      " 69.61864 69.61864 69.61864]\n"
     ]
    }
   ],
   "source": [
    "predictions = model.predict(X_test)\n",
    "print(predictions)"
   ]
  },
  {
   "cell_type": "code",
   "execution_count": 133,
   "metadata": {},
   "outputs": [],
   "source": [
    "from sklearn import metrics\n",
    "RMSE_test = np.sqrt(metrics.mean_squared_error(y_test, predictions))"
   ]
  },
  {
   "cell_type": "code",
   "execution_count": 135,
   "metadata": {},
   "outputs": [
    {
     "name": "stdout",
     "output_type": "stream",
     "text": [
      "RMSE for testset is  0.1039\n"
     ]
    }
   ],
   "source": [
    "print('RMSE for testset is ', RMSE_test )"
   ]
  },
  {
   "cell_type": "markdown",
   "metadata": {},
   "source": [
    "## 7. Conclusion <a class = \"anchor\" id = \"section7\"></a>"
   ]
  },
  {
   "cell_type": "markdown",
   "metadata": {},
   "source": [
    "- This notebook helps us understanding the literacy rate among different states in India. \n",
    "- We have observed if we increase the no. of female teachers in various areas that will increase the female literacy rate.\n",
    "- Bring awareness to the selected villages \n",
    "- Increas number of enrollments\n",
    "- Other applied AI techniques should bring female literacy rates high"
   ]
  }
 ],
 "metadata": {
  "kernelspec": {
   "display_name": "Python 3",
   "language": "python",
   "name": "python3"
  },
  "language_info": {
   "codemirror_mode": {
    "name": "ipython",
    "version": 3
   },
   "file_extension": ".py",
   "mimetype": "text/x-python",
   "name": "python",
   "nbconvert_exporter": "python",
   "pygments_lexer": "ipython3",
   "version": "3.7.0"
  }
 },
 "nbformat": 4,
 "nbformat_minor": 2
}
